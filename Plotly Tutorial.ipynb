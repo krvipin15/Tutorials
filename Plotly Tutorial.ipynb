{
 "cells": [
  {
   "cell_type": "markdown",
   "id": "2de7a603-829e-43eb-928e-41c24975a684",
   "metadata": {},
   "source": [
    "# Plotly\n",
    "![image](https://yt3.googleusercontent.com/JalewCrNLcNFL7SJgxWy5Xhx4TW2MoCDycuY4sR5yaZ9qoMc38il_97M9ht6b7nzcpdrJ18P3A=w1060-fcrop64=1,00005a57ffffa5a8-k-c0xffffffff-no-nd-rj)"
   ]
  },
  {
   "cell_type": "markdown",
   "id": "a50f3d37-6676-4b28-b4bb-b24f12ef3c3a",
   "metadata": {},
   "source": [
    "\n",
    "Plotly is a Python library used to create over 40 beautiful interactive web-based visualizations that can be displayed in Jupyter Notebooks or saved to HTML files. It is widely used to plot scientific, statistical, and financial data. It allows you to create a wide range of interactive plots, charts, and graphs, such as line charts, bar charts, scatter plots, heatmaps, 3D plots, and more."
   ]
  },
  {
   "cell_type": "markdown",
   "id": "a507d0ba-d7a6-44e5-a40d-f8715275ad79",
   "metadata": {},
   "source": [
    "### Import required libraries"
   ]
  },
  {
   "cell_type": "code",
   "execution_count": null,
   "id": "20de49cc-d1f6-4de8-8819-2296922770e1",
   "metadata": {},
   "outputs": [],
   "source": [
    "import numpy as np\n",
    "import pandas as pd \n",
    "import seaborn as sns\n",
    "import cufflinks as cf                            # Cufflinks allowed you to call Plotly functions directly on Pandas DataFrames, which then automatically converted the DataFrame into the appropriate Plotly visualization.\n",
    "import plotly.express as px\n",
    "import plotly.graph_objects as go                 # Allows us to create graph objects for making more customized plots\n",
    "import chart_studio.plotly as py                  # Plotly Chart Studio is a web-based platform that allows you to create, host, and share interactive visualizations and dashboards.\n",
    "from urllib.request import urlopen                # Allows us to grab data from a supplied URL\n",
    "import json                                       # Used to decode JSON data\n",
    "%matplotlib inline                                # It configures the notebook environment to display plots directly below the code cell that generates them.\n",
    "\n",
    "# Make Plotly work in your Jupyter Notebook\n",
    "from plotly.offline import download_plotlyjs, init_notebook_mode, plot, iplot\n",
    "init_notebook_mode(connected=True)\n",
    "# Use Plotly locally\n",
    "cf.go_offline()"
   ]
  },
  {
   "cell_type": "code",
   "execution_count": null,
   "id": "dd5148f9-22e1-4026-876d-63f27cda509f",
   "metadata": {},
   "outputs": [],
   "source": [
    "# Set your Plotly username and API key\n",
    "username = 'krvipin15'\n",
    "api_key = 'x9ZdmJckQEQZy8R08fYG'\n",
    "\n",
    "# Authenticate using your API key\n",
    "py.plotly.tools.set_credentials_file(username=username, api_key=api_key)"
   ]
  },
  {
   "cell_type": "markdown",
   "id": "cdee0b96-cd80-426e-ab4c-3a230c696e79",
   "metadata": {},
   "source": [
    "### Creating a basic dataframe and plots"
   ]
  },
  {
   "cell_type": "code",
   "execution_count": null,
   "id": "7e924c59-b4ca-4dc9-a179-e80279e8f85c",
   "metadata": {},
   "outputs": [],
   "source": [
    "# Create a dataframe using Numpy array that is 50 by 4\n",
    "arr1 = np.random.rand(50, 4)\n",
    "df1 = pd.DataFrame(data=arr1, columns=[\"A\", \"B\", \"C\", \"D\"])\n",
    "df1.head()"
   ]
  },
  {
   "cell_type": "code",
   "execution_count": null,
   "id": "2408a4a7-d472-447c-98e3-583cd408d6a9",
   "metadata": {},
   "outputs": [],
   "source": [
    "# Compare old plot with plotly interactive plot\n",
    "df1.plot()"
   ]
  },
  {
   "cell_type": "code",
   "execution_count": null,
   "id": "aace02b0-47bf-4422-b77b-242b1d883a0b",
   "metadata": {},
   "outputs": [],
   "source": [
    "df1.iplot()"
   ]
  },
  {
   "cell_type": "markdown",
   "id": "7ccfe2dc-8aeb-403c-87e5-99300faa0e5b",
   "metadata": {},
   "source": [
    "### Line Plots\n",
    "It is used to display data points on a two-dimensional plane. It is particularly useful for showing trends or patterns in data over a continuous interval, such as time."
   ]
  },
  {
   "cell_type": "code",
   "execution_count": null,
   "id": "855dbe51-e4ce-4925-b32b-873cae4a827f",
   "metadata": {},
   "outputs": [],
   "source": [
    "# Using in-built stock dataset\n",
    "stocks_df = px.data.stocks()\n",
    "stocks_df.head(3)"
   ]
  },
  {
   "cell_type": "code",
   "execution_count": null,
   "id": "8a850a75-f72a-4544-b4e0-72a2e4559375",
   "metadata": {},
   "outputs": [],
   "source": [
    "# Create plot for Google stock \n",
    "px.line(data_frame=stocks_df, \n",
    "        x=\"date\", \n",
    "        y=\"GOOG\", \n",
    "        labels={\"date\":'Date', \"GOOG\": 'Price'}, \n",
    "        title='Google Stock Price over Time')"
   ]
  },
  {
   "cell_type": "code",
   "execution_count": null,
   "id": "23b479d8-921b-4c6c-a998-24848d76db6a",
   "metadata": {},
   "outputs": [],
   "source": [
    "# Create plot for multiple stocks\n",
    "px.line(data_frame=stocks_df, \n",
    "        x=\"date\", \n",
    "        y=[\"GOOG\", \"AAPL\"], \n",
    "        labels={'date':'Date', 'value':'Price'}, \n",
    "        title='Google vs Apple')"
   ]
  },
  {
   "cell_type": "code",
   "execution_count": null,
   "id": "233fdfa3-06ee-450c-be03-f0b468ce034e",
   "metadata": {},
   "outputs": [],
   "source": [
    "# Create a figure and add plots to it\n",
    "fig1 = go.Figure()\n",
    "\n",
    "# Add trace to the figure and create custom lines such as dash, dot, and dashdot\n",
    "fig1.add_trace(trace=go.Scatter(x=stocks_df.date, \n",
    "                                y=stocks_df.AAPL, \n",
    "                                mode='lines', \n",
    "                                name='Apple', \n",
    "                                line=dict(color='blue', width=2, dash='dot')))\n",
    "\n",
    "fig1.add_trace(trace=go.Scatter(x=stocks_df.date, \n",
    "                                y=stocks_df.AMZN, \n",
    "                                mode='lines+markers', \n",
    "                                name='Amazon', \n",
    "                                line=dict(color='green', width=2, dash='dot')))\n",
    "\n",
    "fig1.add_trace(trace=go.Scatter(x=stocks_df.date, \n",
    "                                y=stocks_df.GOOG,\n",
    "                                mode='lines+markers', \n",
    "                                name='Google', \n",
    "                                line=dict(color='firebrick', width=2, dash='dashdot')))\n",
    "\n",
    "fig1.update_layout(title='Stock Price Data 2018-2020', xaxis_title='Date', yaxis_title='Price')"
   ]
  },
  {
   "cell_type": "code",
   "execution_count": null,
   "id": "4cdc55d5-901d-43c0-8d35-818cae64bb05",
   "metadata": {},
   "outputs": [],
   "source": [
    "# Updating layout of the figure\n",
    "fig = go.Figure()\n",
    "\n",
    "# Add trace to the figure\n",
    "fig.add_trace(trace=go.Scatter(x=stocks_df.date, \n",
    "                               y=stocks_df.AAPL, \n",
    "                               mode='lines', \n",
    "                               name='Apple'))\n",
    "\n",
    "fig.add_trace(trace=go.Scatter(x=stocks_df.date, \n",
    "                               y=stocks_df.AMZN,\n",
    "                               mode='lines',\n",
    "                               name='Amazon'))\n",
    "\n",
    "fig.add_trace(trace=go.Scatter(x=stocks_df.date,\n",
    "                               y=stocks_df.GOOG, \n",
    "                               mode='lines', \n",
    "                               name='Google'))\n",
    "\n",
    "fig.update_layout(\n",
    "    # Shows gray line without grid, styling fonts, linewidths and more on x-axis\n",
    "    xaxis=dict(showline=True, showgrid=False, linecolor='rgb(204,204,204)', linewidth=2, ticks='outside', tickfont=dict(family='Arial', size=12, color='rgb(82,82,82)')),\n",
    "    yaxis=dict(showline=False, showgrid=False, zeroline=False, showticklabels=False),   # Turn off everything on y-axis\n",
    "    autosize=False,\n",
    "    margin=dict(autoexpand=False, l=100, r=20, t=110),\n",
    "    showlegend=False,\n",
    "    plot_bgcolor='white')"
   ]
  },
  {
   "cell_type": "markdown",
   "id": "cf7e1459-b43b-4d18-9fe5-bf6c9dd32524",
   "metadata": {},
   "source": [
    "### Bar Charts\n",
    "A bar chart is a graphical representation of data where rectangular bars are used to compare different categories or groups. Each bar represents a category, and the length or height of the bar is proportional to the value it represents."
   ]
  },
  {
   "cell_type": "code",
   "execution_count": null,
   "id": "2474f14f-6dab-4475-8916-ba67e574f897",
   "metadata": {},
   "outputs": [],
   "source": [
    "# Using in-built tipds dataset \n",
    "tips_df = px.data.tips()\n",
    "tips_df.head(3)"
   ]
  },
  {
   "cell_type": "code",
   "execution_count": null,
   "id": "af3ee916-7f75-462d-99c1-908a7e206c15",
   "metadata": {},
   "outputs": [],
   "source": [
    "# Create a stacked bar\n",
    "px.bar(data_frame=tips_df, \n",
    "       x='day', \n",
    "       y='tip', \n",
    "       color='sex', \n",
    "       title='Tips by Sex on each day', \n",
    "       labels={'tip':'Tip Amount', 'day':'Day of the Week'})"
   ]
  },
  {
   "cell_type": "code",
   "execution_count": null,
   "id": "b1e2c4ce-0b2a-46bc-8e88-6b9e14786add",
   "metadata": {},
   "outputs": [],
   "source": [
    "# Place bars next to each other\n",
    "px.bar(data_frame=tips_df, \n",
    "       x='sex', \n",
    "       y='total_bill',\n",
    "       color='smoker', \n",
    "       barmode='group')"
   ]
  },
  {
   "cell_type": "code",
   "execution_count": null,
   "id": "c0c3917b-896e-448d-9aa3-792365bf2ad4",
   "metadata": {},
   "outputs": [],
   "source": [
    "# Using in-built gapminder dataset and filter the data\n",
    "gapminder_df = px.data.gapminder()\n",
    "europe_df = gapminder_df[(gapminder_df['continent']=='Europe') & (gapminder_df['year']==2007) & (gapminder_df['pop'] > 2.e6)]\n",
    "europe_df.head(3)"
   ]
  },
  {
   "cell_type": "code",
   "execution_count": null,
   "id": "0d6f3c76-aa15-4e11-8b28-48c1b7e1acec",
   "metadata": {},
   "outputs": [],
   "source": [
    "# Display population data for Europe in 2007 and greater than 20,00,000\n",
    "fig = px.bar(europe_df, \n",
    "             x='country', \n",
    "             y='pop', \n",
    "             text='pop', \n",
    "             color='country')\n",
    "\n",
    "# Put bar total value above bars with 2 values of precision\n",
    "fig.update_traces(texttemplate='%{text:.2s}', \n",
    "                  textposition='outside')\n",
    "\n",
    "# Set fontsize and rotate labels to 45 degree, uniformtext_mode='hide'  used to hide text if it won't fit\n",
    "fig.update_layout(uniformtext_minsize=8, \n",
    "                  xaxis_tickangle=-45)"
   ]
  },
  {
   "cell_type": "markdown",
   "id": "724f778e-982c-4faa-bf8a-bbc7861c05bc",
   "metadata": {},
   "source": [
    "### Scatter Plots\r\n",
    "A scatter plot is a graphical representation of data points in a two-dimensional space. Each data point is represented as a dot or marker on the plot, with one value plotted along the x-axis and another value plotted along the y-axis. Scatter plots are commonly used to display the relationship between two variables and to identify patterns or trends in the data."
   ]
  },
  {
   "cell_type": "code",
   "execution_count": null,
   "id": "1e96dcad-8d8f-4664-963d-f9114a66c787",
   "metadata": {},
   "outputs": [],
   "source": [
    "# Using inbuilt Iris dataset \n",
    "iris_df = px.data.iris()\n",
    "iris_df.head(3)"
   ]
  },
  {
   "cell_type": "code",
   "execution_count": null,
   "id": "8deee04b-91f9-4d0a-91f2-ab1da54ffa89",
   "metadata": {},
   "outputs": [],
   "source": [
    "# Create a scatter plot by defining x, y, different color for count of provided\n",
    "# column, size based on supplied column and additional data to display on hover\n",
    "px.scatter(data_frame=iris_df, \n",
    "           x='sepal_width', \n",
    "           y='sepal_length', \n",
    "           color='species', \n",
    "           size='petal_length', \n",
    "           hover_data=['petal_width'])"
   ]
  },
  {
   "cell_type": "code",
   "execution_count": null,
   "id": "c1e9d359-3d87-4991-b09a-64955c48b869",
   "metadata": {},
   "outputs": [],
   "source": [
    "# Create a customized scatter with black marker edges with line width 2, opaque\n",
    "# and colored based on width. Also show a scale on the right\n",
    "fig=go.Figure()\n",
    "\n",
    "fig.add_trace(trace=go.Scatter(x=iris_df.sepal_width, \n",
    "                               y=iris_df.sepal_length, \n",
    "                               mode='markers', \n",
    "                               marker_color=iris_df.sepal_width, \n",
    "                               text=iris_df.species, \n",
    "                               marker=dict(showscale=True)))\n",
    "\n",
    "fig.update_traces(marker_line_width=2, \n",
    "                  marker_size=10)"
   ]
  },
  {
   "cell_type": "code",
   "execution_count": null,
   "id": "5c0d753f-9cea-4f99-80be-1fa8fffa657e",
   "metadata": {},
   "outputs": [],
   "source": [
    "fig = go.Figure(data=go.Scattergl(x=np.random.rand(100000), \n",
    "                                  y=np.random.rand(100000), \n",
    "                                  mode='markers', \n",
    "                                  marker=dict(color=np.random.rand(100000), colorscale='Viridis', line_width=1)))\n",
    "fig.show()"
   ]
  },
  {
   "cell_type": "markdown",
   "id": "0e431353-789b-4ef9-8781-8338b97f09b0",
   "metadata": {},
   "source": [
    "### Pie Charts\n",
    "\n",
    "A pie chart is a circular statistical graphic that is divided into sectors, to represent the distribution of a categorical dataset. Each sector's size is proportional to the quantity or percentage, it represents within the whole dataset."
   ]
  },
  {
   "cell_type": "code",
   "execution_count": null,
   "id": "4d7bac0f-0d9f-40c4-84e3-7c7d9faebad9",
   "metadata": {},
   "outputs": [],
   "source": [
    "# Using in-built gapminder dataset\n",
    "samer_df = px.data.gapminder().query(\"year==2007\").query(\"continent=='Asia'\")\n",
    "samer_df.head(3)"
   ]
  },
  {
   "cell_type": "code",
   "execution_count": null,
   "id": "26ae67a4-4b5c-4bd3-a006-72254ca29314",
   "metadata": {},
   "outputs": [],
   "source": [
    "px.pie(data_frame=samer_df, \n",
    "       names='country', \n",
    "       values='pop', \n",
    "       title='Population of Asian Continent', \n",
    "       color_discrete_sequence=px.colors.sequential.RdBu)"
   ]
  },
  {
   "cell_type": "code",
   "execution_count": null,
   "id": "52518012-8582-4dac-8b48-182b1226ac92",
   "metadata": {},
   "outputs": [],
   "source": [
    "# Customize pie chart\n",
    "colors = ['#7AB8D5', '#3E92CC', '#1E77B5', '#155FA0', '#0B4689', '#08306B']\n",
    "\n",
    "fig = go.Figure(data=[go.Pie(labels=['Water', 'Grass', 'Normal', 'Psychic', 'Fire', 'Ground'], \n",
    "                             values=[110, 90, 80, 80, 70, 60])])\n",
    "\n",
    "fig.update_traces(hoverinfo='label+percent', \n",
    "                  textfont_size=20, \n",
    "                  textinfo='label+percent', \n",
    "                  pull=[0.1, 0, 0.2, 0, 0, 0], \n",
    "                  marker=dict(colors=colors, line=dict(color='#FFFFFF', width=2)))"
   ]
  },
  {
   "cell_type": "markdown",
   "id": "5274c391-53e8-46db-8ff4-20e319cef4b4",
   "metadata": {},
   "source": [
    "### Histograms\n",
    "A histogram is a graphical representation of the distribution of numerical data. It divides the data into intervals or 'bins', and displays how many data points fall into each bin. It provide a visual depiction of data's underlying frequency distribution, allowing viewers to quickly understand the shape, center, spread, and presence of any patterns or outliers in dataset"
   ]
  },
  {
   "cell_type": "code",
   "execution_count": null,
   "id": "9e556187-a054-4b9f-8447-ad7280e617bc",
   "metadata": {},
   "outputs": [],
   "source": [
    "# Plot a histogram based on the rolling of two dice\n",
    "dice1 = np.random.randint(low=1, high=7, size=5000)\n",
    "dice2 = np.random.randint(low=1, high=7, size=5000)\n",
    "dice_sum = dice1 + dice2\n",
    "dice_sum"
   ]
  },
  {
   "cell_type": "code",
   "execution_count": null,
   "id": "97afc22d-4696-4dfb-afff-5766ac481e0b",
   "metadata": {},
   "outputs": [],
   "source": [
    "fig = px.histogram(dice_sum, \n",
    "                   nbins=11, \n",
    "                   title='5000 Dice Roll Histogram', \n",
    "                   marginal='violin', \n",
    "                   color_discrete_sequence=['#0B4689'])\n",
    "\n",
    "fig.update_layout(xaxis_title='Dice Roll', \n",
    "                  yaxis_title='Dice Sum', \n",
    "                  bargap=0.1, \n",
    "                  showlegend=False)"
   ]
  },
  {
   "cell_type": "code",
   "execution_count": null,
   "id": "b7b31afc-afa0-4591-8864-7dd491feb1b8",
   "metadata": {},
   "outputs": [],
   "source": [
    "# Stack histograms based on different column data from tips dataset\n",
    "fig = px.histogram(data_frame=tips_df, \n",
    "                   x='total_bill', \n",
    "                   color='sex', \n",
    "                   color_discrete_sequence=['#3E92CC', '#155FA0'])\n",
    "\n",
    "fig.update_layout(bargap=0.01)"
   ]
  },
  {
   "cell_type": "markdown",
   "id": "115c95ec-b493-41d4-8ca3-70fe498bff55",
   "metadata": {},
   "source": [
    "### Box Plots / Box & Wishker Plots\n",
    "It allows you to compare different variables, as it provides the summary of key statistics, and visualize the spread, central tendency, and presence of outliers. Box plot is constructed of -  \n",
    "1. A rectangular box which represent range between first quartile(Q1) and third quartile(Q3).\n",
    "2. A vertical line inside box represents the median.\n",
    "3. 'Whiskers' extend from the box to the minimum and maximum values within a certain range.\n",
    "4. Outliers represented as individual points or dots beyonf the whiskers."
   ]
  },
  {
   "cell_type": "code",
   "execution_count": null,
   "id": "1eb13558-404d-4993-ad02-8f7a65918c3d",
   "metadata": {},
   "outputs": [],
   "source": [
    "# Creating box plot with all data points\n",
    "px.box(tips_df, \n",
    "       x='day', \n",
    "       y='tip', \n",
    "       points='all', \n",
    "       color_discrete_sequence=['#08306B'])"
   ]
  },
  {
   "cell_type": "code",
   "execution_count": null,
   "id": "7fafce3c-915b-4cb9-a165-68b90996f7d8",
   "metadata": {},
   "outputs": [],
   "source": [
    "# Display tip sex data by day\n",
    "px.box(tips_df, \n",
    "       x='day', \n",
    "       y='tip', \n",
    "       color='sex', \n",
    "       color_discrete_sequence=['#155FA0', '#08306B'])"
   ]
  },
  {
   "cell_type": "code",
   "execution_count": null,
   "id": "e043df93-32ed-4f21-85a7-a787f62f17f8",
   "metadata": {},
   "outputs": [],
   "source": [
    "# Adding standard deviaton and mean\n",
    "fig = go.Figure()\n",
    "\n",
    "fig.add_trace(go.Box(x=tips_df.sex,\n",
    "                     y=tips_df.tip, \n",
    "                     marker_color='#08306B', \n",
    "                     boxmean='sd'))"
   ]
  },
  {
   "cell_type": "code",
   "execution_count": null,
   "id": "3f01a5fa-db01-4fbe-8395-d5f77c25a04c",
   "metadata": {},
   "outputs": [],
   "source": [
    "# Using Stocks dataset\n",
    "fig = go.Figure()\n",
    "\n",
    "# Show all points, spread them so they don't overlap, and change whisker width\n",
    "fig.add_trace(go.Box(y=stocks_df.GOOG, \n",
    "                     boxpoints='all', \n",
    "                     name='Google', \n",
    "                     fillcolor='blue', \n",
    "                     jitter=0.5, \n",
    "                     whiskerwidth=0.2))\n",
    "\n",
    "fig.add_trace(go.Box(y=stocks_df.AAPL, \n",
    "                     boxpoints='all', \n",
    "                     name='Apple', \n",
    "                     fillcolor='red', \n",
    "                     jitter=0.5, \n",
    "                     whiskerwidth=0.2))\n",
    "\n",
    "fig.update_layout(title='Google vs Apple', \n",
    "                  yaxis=dict(gridcolor='rgb(255, 255, 255)', gridwidth=3), \n",
    "                  paper_bgcolor='rgb(243,243,243)', \n",
    "                  plot_bgcolor='rgb(243,243,243)')"
   ]
  },
  {
   "cell_type": "markdown",
   "id": "57fed4ea-5358-4c7a-b3df-7c2d140611d8",
   "metadata": {},
   "source": [
    "### Violin Plot\n",
    "It combines elements of both *Box Plots* and *Kernel Density Plots*. It is used to display the distribution of a dataset accross different categories. The plot resembles a violin in shape, with central body representing the density of the data values, and 'violins' extending from the body that shows the spread of the data. "
   ]
  },
  {
   "cell_type": "code",
   "execution_count": null,
   "id": "098a0723-a040-4e7e-bf4a-6b1ab6b8bdce",
   "metadata": {},
   "outputs": [],
   "source": [
    "# Create violin plot using tips dataset\n",
    "px.violin(data_frame=tips_df,\n",
    "          y='total_bill', \n",
    "          box=True, \n",
    "          points='all',\n",
    "          hover_data=tips_df.columns)"
   ]
  },
  {
   "cell_type": "code",
   "execution_count": null,
   "id": "01646dec-2515-4fd8-937a-6d1845c73d74",
   "metadata": {},
   "outputs": [],
   "source": [
    "# Multiple plots\n",
    "px.violin(data_frame=tips_df, \n",
    "          x='smoker', \n",
    "          y='tip', \n",
    "          color='sex', \n",
    "          box=True, \n",
    "          points='all', \n",
    "          hover_data=tips_df.columns)"
   ]
  },
  {
   "cell_type": "code",
   "execution_count": null,
   "id": "d3253d70-2c0d-4158-905d-9ed8feca8ec8",
   "metadata": {},
   "outputs": [],
   "source": [
    "# Morph left and right sides based on if the customer smokes or not\n",
    "tip_df = tips_df.query(\"smoker=='Yes'\")\n",
    "fig= go.Figure()\n",
    "\n",
    "fig.add_trace(trace=go.Violin(x=tips_df['day'], \n",
    "                              y=tips_df['total_bill'],\n",
    "                              legendgroup='Yes', \n",
    "                              scalegroup='Yes', \n",
    "                              name='Yes',\n",
    "                              side='negative',\n",
    "                              line_color='blue'))\n",
    "\n",
    "tip_df = tips_df.query(\"smoker=='No'\")\n",
    "fig.add_trace(trace=go.Violin(x=tips_df['day'], \n",
    "                              y=tips_df['total_bill'],\n",
    "                              legendgroup='No', \n",
    "                              scalegroup='No', \n",
    "                              name='No',\n",
    "                              side='positive',\n",
    "                              line_color='red'))"
   ]
  },
  {
   "cell_type": "markdown",
   "id": "78342053-a6b3-4ecb-b70e-5f6c579031a2",
   "metadata": {},
   "source": [
    "### Density Heatmap\n",
    "It is a graphical representation that uses color intensity to visualize the density of data points accross 2D space. Useful for displaying the concentration of data and identifying patterns or trends in data distribution."
   ]
  },
  {
   "cell_type": "code",
   "execution_count": null,
   "id": "40ca56ae-8a29-432b-93ca-a6bfec884163",
   "metadata": {},
   "outputs": [],
   "source": [
    "# Create a heatmap using Seaborn in-built dataset\n",
    "flights = sns.load_dataset(\"flights\")\n",
    "flights.head(3)"
   ]
  },
  {
   "cell_type": "code",
   "execution_count": null,
   "id": "e63a5b83-2d84-428f-a129-27960b251a37",
   "metadata": {},
   "outputs": [],
   "source": [
    "# You can set bins with nbinsx and nbinsy\n",
    "fig = px.density_heatmap(flights, \n",
    "                         x='year', \n",
    "                         y='month', \n",
    "                         z='passengers', \n",
    "                         color_continuous_scale='Viridis')\n",
    "fig.show()"
   ]
  },
  {
   "cell_type": "code",
   "execution_count": null,
   "id": "123bc893-24c6-40f3-8987-233a8e764626",
   "metadata": {},
   "outputs": [],
   "source": [
    "# You can add histograms\n",
    "fig = px.density_heatmap(flights, \n",
    "                         x='year',\n",
    "                         y='month', \n",
    "                         z='passengers',\n",
    "                         marginal_x='histogram', marginal_y='histogram')\n",
    "\n",
    "fig.update_layout(bargap=0.01)"
   ]
  },
  {
   "cell_type": "markdown",
   "id": "90615ee1-e0e6-462d-a7d6-b12542f60642",
   "metadata": {},
   "source": [
    "### 3D Scatter Plots\n",
    "It is a 3D data visualization used to display relationships and patterns among three numerical variables. "
   ]
  },
  {
   "cell_type": "code",
   "execution_count": null,
   "id": "6b2315c5-3387-40c8-86f2-631f7307ae27",
   "metadata": {},
   "outputs": [],
   "source": [
    "# Create a 3D Scatter Plot using flight dataset\n",
    "fig = px.scatter_3d(data_frame=flights, \n",
    "                    x='year', \n",
    "                    y='month', \n",
    "                    z='passengers',\n",
    "                    color='year', \n",
    "                    template='plotly_dark', \n",
    "                    opacity=0.8, \n",
    "                    width=700, \n",
    "                    height=700)\n",
    "fig.show()"
   ]
  },
  {
   "cell_type": "markdown",
   "id": "9aebe219-ee1b-4cae-b410-57e074a7d60a",
   "metadata": {},
   "source": [
    "### 3D Line Plots\n",
    "It is a 3D data visualization that represents continous line connecting data points, and used to illustrate the relationship between 3 numerical variables. It is useful for visualizing trends, patterns, and changes in data"
   ]
  },
  {
   "cell_type": "code",
   "execution_count": null,
   "id": "c210e17f-3e4e-482f-9e32-24cf6ef16a37",
   "metadata": {},
   "outputs": [],
   "source": [
    "fig = px.line_3d(data_frame=flights, \n",
    "                 x='year', \n",
    "                 y='month', \n",
    "                 z='passengers', \n",
    "                 color='year', \n",
    "                 template='plotly_dark', \n",
    "                 width=700, \n",
    "                 height=700)\n",
    "\n",
    "fig.update_traces(line=dict(width=4))"
   ]
  },
  {
   "cell_type": "markdown",
   "id": "866cabc9-41b5-4d3d-917c-a8291e028384",
   "metadata": {},
   "source": [
    "### Scatter Matrix / Pair Plot\n",
    "It is a graphical tool used to display pairwise scatter plots of multiple variables in a dataset. Useful for exploring relationships and correlations between multiple numerical variables."
   ]
  },
  {
   "cell_type": "code",
   "execution_count": null,
   "id": "eedd18d2-ffdd-4a22-b9a9-84cd01c1c6c4",
   "metadata": {},
   "outputs": [],
   "source": [
    "px.scatter_matrix(data_frame=flights, \n",
    "                  color='month')"
   ]
  },
  {
   "cell_type": "markdown",
   "id": "5768ab7e-218a-4bd1-8079-de492c869e0c",
   "metadata": {},
   "source": [
    "### Map Scatter Plots\n",
    "It displays data points on a geographical map, and used to show spatial distribution and relationships of data points that have associated geographical coordinates."
   ]
  },
  {
   "cell_type": "code",
   "execution_count": null,
   "id": "a8bab64b-92df-4bb6-bb75-0995ca5df361",
   "metadata": {},
   "outputs": [],
   "source": [
    "df = px.data.gapminder().query(\"year == 2007\")\n",
    "px.scatter_geo(data_frame=df, \n",
    "               locations='iso_alpha', \n",
    "               color='continent', \n",
    "               hover_name='country', \n",
    "               size='pop', \n",
    "               projection='orthographic', \n",
    "               template='plotly_dark', \n",
    "               width=800, \n",
    "               height=400)"
   ]
  },
  {
   "cell_type": "markdown",
   "id": "e06a2113-97ce-475b-9d65-ae5c1721def2",
   "metadata": {},
   "source": [
    "### Choropleth Maps\n",
    "It is a thematic map that uses different shades, colors, or patterns to represent the variations in a particular data variable accross different geographic regions. "
   ]
  },
  {
   "cell_type": "code",
   "execution_count": null,
   "id": "3f9c1ef8-1058-4fea-9f0a-412423261f5c",
   "metadata": {
    "scrolled": true
   },
   "outputs": [],
   "source": [
    "# Grab US country geometry data\n",
    "with urlopen('https://raw.githubusercontent.com/plotly/datasets/master/geojson-counties-fips.json') as response:\n",
    "    countries = json.load(response)"
   ]
  },
  {
   "cell_type": "code",
   "execution_count": null,
   "id": "479b36d0-bb67-4bbd-80cf-19c38603da88",
   "metadata": {},
   "outputs": [],
   "source": [
    "# Grab unemployment data based on each countries Federal Information Processing(fip) number\n",
    "df = pd.read_csv(\"https://raw.githubusercontent.com/plotly/datasets/master/fips-unemp-16.csv\", dtype={\"fips\": str})\n",
    "df.head(3)"
   ]
  },
  {
   "cell_type": "code",
   "execution_count": null,
   "id": "9484ac8f-6b88-48f7-b0b8-d9721214042f",
   "metadata": {},
   "outputs": [],
   "source": [
    "# Draw map using the country JSON data, color using unemployment values on a range of 12\n",
    "px.choropleth(df, \n",
    "              geojson=countries, \n",
    "              locations='fips', \n",
    "              color='unemp', \n",
    "              color_continuous_scale='Viridis', \n",
    "              range_color=(0,12), \n",
    "              scope='usa', \n",
    "              labels={'unemp':'unemployment rate'},\n",
    "              width=800, \n",
    "              height=700)"
   ]
  },
  {
   "cell_type": "markdown",
   "id": "39d6506b-6d33-44b7-aeb9-aeabbbd8a849",
   "metadata": {},
   "source": [
    "### Polar Chart / Radar Chart\n",
    "It displays data points using circular plot with multiple axes radiating from a common center. It's used to visualize multivariate data patterns and comparisons accross different categories."
   ]
  },
  {
   "cell_type": "code",
   "execution_count": null,
   "id": "26acb5d0-e390-4268-8fa8-ba8fed1f3d5d",
   "metadata": {},
   "outputs": [],
   "source": [
    "# Using inbuilt wind dataset\n",
    "wind_df = px.data.wind()\n",
    "wind_df.head(3)"
   ]
  },
  {
   "cell_type": "code",
   "execution_count": null,
   "id": "0e83f2a0-280e-4ea1-a217-0d491a977a81",
   "metadata": {},
   "outputs": [],
   "source": [
    "# Plot wind data based on direction and frequency\n",
    "px.scatter_polar(wind_df, \n",
    "                 r='frequency', \n",
    "                 theta='direction', \n",
    "                 color='strength', \n",
    "                 size='frequency', \n",
    "                 template='plotly_dark', \n",
    "                 width=800, \n",
    "                 height=400)"
   ]
  },
  {
   "cell_type": "code",
   "execution_count": null,
   "id": "e45c680a-72ac-4cfc-a76c-3a7bc69f5692",
   "metadata": {},
   "outputs": [],
   "source": [
    "# Plot data using lines radially\n",
    "fig = px.line_polar(wind_df, \n",
    "                    r='frequency', \n",
    "                    theta='direction', \n",
    "                    color='strength', \n",
    "                    line_close=True, \n",
    "                    template='plotly_dark', \n",
    "                    width=800, \n",
    "                    height=400)\n",
    "\n",
    "fig.update_traces(line=dict(width=4))"
   ]
  },
  {
   "cell_type": "markdown",
   "id": "9bc10b8f-f4e3-478c-9829-a9f9d861e6af",
   "metadata": {},
   "source": [
    "### Ternary Plot\n",
    "It is a triangular graph used to visualize the composition of 3 component mixture. It represents the percentage of 3 variables that add up to 100%. Useful in fields like geology, chemistry, and environmental science."
   ]
  },
  {
   "cell_type": "code",
   "execution_count": null,
   "id": "55dbc484-98f9-4507-9b57-07ebb1e0eb01",
   "metadata": {},
   "outputs": [],
   "source": [
    "exp_df = px.data.experiment()\n",
    "exp_df.head(3)"
   ]
  },
  {
   "cell_type": "code",
   "execution_count": null,
   "id": "e1ce7c97-9277-4a45-a129-6b1af1c07c53",
   "metadata": {},
   "outputs": [],
   "source": [
    "# Used to represent ratios of 3 variables\n",
    "px.scatter_ternary(exp_df, \n",
    "                   a='experiment_1', \n",
    "                   b='experiment_2', \n",
    "                   c='experiment_3', \n",
    "                   hover_name='group', \n",
    "                   color='gender')"
   ]
  },
  {
   "cell_type": "markdown",
   "id": "37de695b-ed38-4d11-aad9-d4ef3e360c0b",
   "metadata": {},
   "source": [
    "### Facets\n",
    "It refers to the splitting of dataset into multiple subets and creating seprate plots for each subset. These plots are displayed together on a single visualization canvas, allowing for easy comparison between different segments of the data."
   ]
  },
  {
   "cell_type": "code",
   "execution_count": null,
   "id": "a8033f4f-d2c2-4f22-b128-e30f5d0ee9ff",
   "metadata": {},
   "outputs": [],
   "source": [
    "# You can create numerous subplots\n",
    "px.scatter(tips_df, \n",
    "           x='total_bill', \n",
    "           y='tip', \n",
    "           color='smoker', \n",
    "           facet_col='sex')"
   ]
  },
  {
   "cell_type": "code",
   "execution_count": null,
   "id": "050bb767-0169-4ff7-a05a-384390355672",
   "metadata": {},
   "outputs": [],
   "source": [
    "# We can line up data in rows and columns\n",
    "px.histogram(tip_df, \n",
    "             x='total_bill', \n",
    "             y='tip', \n",
    "             color='sex', \n",
    "             facet_row='time', \n",
    "             facet_col='day', \n",
    "             category_orders={'day':['Thur', 'Fri', 'Sat', 'Sun'], 'time':['Lunch', 'Dinner']})"
   ]
  },
  {
   "cell_type": "code",
   "execution_count": null,
   "id": "0ebec0e1-f935-4c61-a8a2-1c1379cf26b1",
   "metadata": {},
   "outputs": [],
   "source": [
    "# This dataframe provides scores for different students based on the level of attention they could provide during testing\n",
    "att_df = sns.load_dataset('attention')\n",
    "att_df.head(3)"
   ]
  },
  {
   "cell_type": "code",
   "execution_count": null,
   "id": "8d5acd25-439c-4cef-98eb-5ab34b363f47",
   "metadata": {},
   "outputs": [],
   "source": [
    "px.line(att_df, \n",
    "        x='solutions', \n",
    "        y='score', \n",
    "        facet_col='subject', \n",
    "        facet_col_wrap=5, \n",
    "        title='Scores Based on Attention')"
   ]
  },
  {
   "cell_type": "markdown",
   "id": "70c1dbfe-ccce-4410-9cb1-4da743c903d4",
   "metadata": {},
   "source": [
    "### Animated Plots\n",
    "They are the visualiztions that changes over time or in response to some variable, creating a dynamic and interactive reprentation of data."
   ]
  },
  {
   "cell_type": "code",
   "execution_count": null,
   "id": "6d94d802-d1ef-4fdd-a466-d528f5cb7afd",
   "metadata": {},
   "outputs": [],
   "source": [
    "# Create an animated plot that you can use to cycle through continent GDP & life expectancy changes\n",
    "cnt_df = px.data.gapminder()\n",
    "\n",
    "px.scatter(cnt_df, \n",
    "           x='gdpPercap', \n",
    "           y='lifeExp', \n",
    "           animation_frame='year', \n",
    "           animation_group='country', \n",
    "           size='pop',\n",
    "           color='continent', \n",
    "           hover_name='country', \n",
    "           log_x=True, \n",
    "           size_max=55, \n",
    "           range_x=[100, 100000], \n",
    "           range_y=[25, 90])"
   ]
  },
  {
   "cell_type": "code",
   "execution_count": null,
   "id": "33d9397a-f1eb-4b25-a83f-01e93f2fcf3d",
   "metadata": {},
   "outputs": [],
   "source": [
    "# Watch as bar chart population changes\n",
    "px.bar(cnt_df, \n",
    "       x='continent', \n",
    "       y='pop', \n",
    "       color='continent', \n",
    "       animation_frame='year', \n",
    "       animation_group='country', \n",
    "       range_y=[0, 4000000000])"
   ]
  }
 ],
 "metadata": {
  "kernelspec": {
   "display_name": "Python 3 (ipykernel)",
   "language": "python",
   "name": "python3"
  },
  "language_info": {
   "codemirror_mode": {
    "name": "ipython",
    "version": 3
   },
   "file_extension": ".py",
   "mimetype": "text/x-python",
   "name": "python",
   "nbconvert_exporter": "python",
   "pygments_lexer": "ipython3",
   "version": "3.11.4"
  }
 },
 "nbformat": 4,
 "nbformat_minor": 5
}
